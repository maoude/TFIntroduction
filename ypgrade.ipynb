{
  "nbformat": 4,
  "nbformat_minor": 0,
  "metadata": {
    "colab": {
      "name": "Untitled1.ipynb",
      "provenance": [],
      "collapsed_sections": [],
      "authorship_tag": "ABX9TyMsNV2CIba6S5piT1jMIgLK",
      "include_colab_link": true
    },
    "kernelspec": {
      "name": "python3",
      "display_name": "Python 3"
    }
  },
  "cells": [
    {
      "cell_type": "markdown",
      "metadata": {
        "id": "view-in-github",
        "colab_type": "text"
      },
      "source": [
        "<a href=\"https://colab.research.google.com/github/maoude/TFIntroduction/blob/master/ypgrade.ipynb\" target=\"_parent\"><img src=\"https://colab.research.google.com/assets/colab-badge.svg\" alt=\"Open In Colab\"/></a>"
      ]
    },
    {
      "cell_type": "code",
      "metadata": {
        "id": "xaD8fJ-rIM-N",
        "colab_type": "code",
        "colab": {
          "base_uri": "https://localhost:8080/",
          "height": 238
        },
        "outputId": "b3d100e7-1a0f-498f-b899-3f3c4a2e56c3"
      },
      "source": [
        "!tf_upgrade_v2 \\\n",
        "  --infile /maoude/TFIntroduction/blob/master/exemple01.ipynb \\\n",
        "  --outfile /tmp/custom_regression_v2.py "
      ],
      "execution_count": 6,
      "outputs": [
        {
          "output_type": "stream",
          "text": [
            "Extracting code lines from original notebook\n",
            "Traceback (most recent call last):\n",
            "  File \"/usr/local/bin/tf_upgrade_v2\", line 8, in <module>\n",
            "    sys.exit(main())\n",
            "  File \"/usr/local/lib/python2.7/dist-packages/tensorflow_core/tools/compatibility/tf_upgrade_v2_main.py\", line 139, in main\n",
            "    args.input_file, output_file, upgrade)\n",
            "  File \"/usr/local/lib/python2.7/dist-packages/tensorflow_core/tools/compatibility/tf_upgrade_v2_main.py\", line 43, in process_file\n",
            "    ipynb.process_file(in_filename, out_filename, upgrader)\n",
            "  File \"/usr/local/lib/python2.7/dist-packages/tensorflow_core/tools/compatibility/ipynb.py\", line 40, in process_file\n",
            "    raw_code, notebook = _get_code(in_filename)\n",
            "  File \"/usr/local/lib/python2.7/dist-packages/tensorflow_core/tools/compatibility/ipynb.py\", line 108, in _get_code\n",
            "    with open(input_file) as in_file:\n",
            "IOError: [Errno 2] No such file or directory: '/maoude/TFIntroduction/blob/master/exemple01.ipynb'\n"
          ],
          "name": "stdout"
        }
      ]
    }
  ]
}